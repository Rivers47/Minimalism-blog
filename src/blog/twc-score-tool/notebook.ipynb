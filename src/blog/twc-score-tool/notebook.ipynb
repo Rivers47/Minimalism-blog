{
 "cells": [
  {
   "cell_type": "markdown",
   "id": "9a5adc30",
   "metadata": {},
   "source": [
    "$$\\begin{align}\n",
    "ba^{s_1}+c = i_1\\\\\n",
    "ba^{s_2}+c = i_2\\\\\n",
    "ba^{s_3}+c = i_3\\\\\n",
    "\\end{align}\n",
    "$$\n",
    "\n",
    "\n",
    "$$ c = i_1 - ba^{s_1}$$\n",
    "$$b = \\frac{i_2-c}{a^{s_2}} = \\frac{i_2-i_1}{a^{s_2}-a^{s_1}}$$\n",
    "$$a^{s_3} = \\frac{i_3-c}{b} \\implies (i_2-i_1)a^{s_3} + (i_1-i_3)a^{s_2} + (i_3-i_2)a^{s_1} = 0$$"
   ]
  },
  {
   "cell_type": "code",
   "execution_count": 1,
   "id": "c2037687",
   "metadata": {
    "tags": [
     "solver"
    ]
   },
   "outputs": [],
   "source": [
    "import numpy as np\n",
    "import scipy.optimize\n",
    "\n",
    "\n",
    "\"\"\"\n",
    "s1,s2,s3 and i1,i2,i3 have to be in _increasing_ order\n",
    "\n",
    "            s1 < s2 < s3, i1 < i2 < i3\n",
    "If solving fails, check if the provided points are convex.\n",
    "            \n",
    "Method can be \n",
    "'root_scalar': versatile, works for any scores\n",
    "'polynomial': robust, but s3-s1 and s2-s1 have to be integers\n",
    "\"\"\"\n",
    "def getParam(s1,s2,s3,i1,i2,i3, method = 'root_scalar', a_range = [1.01,100]):\n",
    "    d2 = s3-s1\n",
    "    d1 = s2-s1\n",
    "    if method == 'polynomial':\n",
    "        coeff = []\n",
    "        for c in range(d2, -1, -1):\n",
    "            if c == d2:\n",
    "                coeff.append(i2-i1)\n",
    "            elif c == d1:\n",
    "                coeff.append(i1-i3)\n",
    "            elif c == 0:\n",
    "                coeff.append(i3-i2)\n",
    "            else:\n",
    "                coeff.append(0)\n",
    "        a = np.roots(coeff)\n",
    "        b = (i2-i1)/(np.power(a,s2)-np.power(a,s1))\n",
    "        c = i1-b*np.power(a,s1)\n",
    "    elif method == 'root_scalar':\n",
    "        f = lambda x: (i2-i1)*np.power(x,d2) + (i1-i3)*np.power(x,d1) + (i3-i2)\n",
    "        print(f\"{i2-i1}x^{d2}+{i1-i3}x^{d1}+{i3-i2}\")\n",
    "        a = scipy.optimize.root_scalar(f, bracket=a_range).root\n",
    "        b = (i2-i1)/(np.power(a,s2)-np.power(a,s1))\n",
    "        c = i1-b*np.power(a,s1)\n",
    "    else:\n",
    "        raise ValueError(\"Unknown root finding method.\")\n",
    "    return a,b,c"
   ]
  },
  {
   "cell_type": "code",
   "execution_count": null,
   "id": "537481bd",
   "metadata": {
    "scrolled": true,
    "tags": [
     "example"
    ]
   },
   "outputs": [
    {
     "name": "stdout",
     "output_type": "stream",
     "text": [
      "44x^1.1999999999999993+-124x^0.6000000000000014+80\n",
      "44x^1.1999999999999993+-124x^0.6000000000000014+80\n",
      "44x^2.0+-124x^1.0+80\n",
      "[2.70850007 2.70850007 1.81818182]\n",
      "[3.89562203e-06 1.05512925e-05 5.74043377e-05]\n",
      "[2.22222222 2.22222222 2.22222222]\n"
     ]
    }
   ],
   "source": [
    "#sample data:e\n",
    "score = np.array([[16.5, 17.1, 17.7],\n",
    "                  [15.5, 16.1, 16.7],\n",
    "                  [23,   24,   25]])\n",
    "iscore = np.array([[56, 100, 180],\n",
    "                   [56, 100, 180],\n",
    "                   [56, 100, 180]])\n",
    "\n",
    "def calcParam(score, iscore):\n",
    "    a = np.empty(3)\n",
    "    b = np.empty(3)\n",
    "    c = np.empty(3)\n",
    "    for i in range(len(score)):\n",
    "        x,y,z = getParam(score[i][0], score[i][1], score[i][2], iscore[i][0], iscore[i][1], iscore[i][2])\n",
    "        a[i] = x\n",
    "        b[i] = y\n",
    "        c[i] = z\n",
    "    return a,b,c\n",
    "        \n",
    "a,b,c = calcParam(score, iscore)\n",
    "\n",
    "print(a)\n",
    "print(b)\n",
    "print(c)\n",
    "\n",
    "# ans = np.where(np.logical_and(np.isreal(a), a > 1))\n"
   ]
  },
  {
   "cell_type": "code",
   "execution_count": null,
   "id": "2d5572ce",
   "metadata": {
    "tags": [
     "graph"
    ]
   },
   "outputs": [
    {
     "data": {
      "image/png": "[encoded data removed]",
      "text/plain": [
       "<Figure size 640x480 with 1 Axes>"
      ]
     },
     "metadata": {},
     "output_type": "display_data"
    }
   ],
   "source": [
    "import matplotlib as mpl\n",
    "import matplotlib.pyplot as plt\n",
    "fig, ax = plt.subplots()\n",
    "x = [np.linspace(3, 18, 200), np.linspace(3, 17, 200), np.linspace(3, 25, 200)]\n",
    "for i in range(len(score)):\n",
    "    y = b[i]*np.power(a[i],x[i])+c[i]\n",
    "    ax.plot(x[i],y)\n",
    "    ax.scatter(score.T[i], iscore.T[i], c='r')"
   ]
  },
  {
   "cell_type": "code",
   "execution_count": null,
   "id": "2ac3a7f3",
   "metadata": {},
   "outputs": [],
   "source": []
  }
 ],
 "metadata": {
  "kernelspec": {
   "display_name": "Python 3 (ipykernel)",
   "language": "python",
   "name": "python3"
  },
  "language_info": {
   "codemirror_mode": {
    "name": "ipython",
    "version": 3
   },
   "file_extension": ".py",
   "mimetype": "text/x-python",
   "name": "python",
   "nbconvert_exporter": "python",
   "pygments_lexer": "ipython3",
   "version": "3.11.3"
  }
 },
 "nbformat": 4,
 "nbformat_minor": 5
}
